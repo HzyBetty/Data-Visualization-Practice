{
  "nbformat": 4,
  "nbformat_minor": 0,
  "metadata": {
    "colab": {
      "provenance": [],
      "authorship_tag": "ABX9TyOHe1rgvVu1Thaidvm7kTJf",
      "include_colab_link": true
    },
    "kernelspec": {
      "name": "python3",
      "display_name": "Python 3"
    },
    "language_info": {
      "name": "python"
    }
  },
  "cells": [
    {
      "cell_type": "markdown",
      "metadata": {
        "id": "view-in-github",
        "colab_type": "text"
      },
      "source": [
        "<a href=\"https://colab.research.google.com/github/HzyBetty/Data-Visualization-Practice/blob/main/WestRoxbury_Data_Preprocessing.ipynb\" target=\"_parent\"><img src=\"https://colab.research.google.com/assets/colab-badge.svg\" alt=\"Open In Colab\"/></a>"
      ]
    },
    {
      "cell_type": "code",
      "execution_count": null,
      "metadata": {
        "id": "p-1_nOb5kiim"
      },
      "outputs": [],
      "source": [
        "\"\"\"Code for loading and creating subsets from the data\"\"\"\n",
        "\n",
        "# Import required packages\n",
        "import pandas as pd\n",
        "\n",
        "# Load data\n",
        "housing_df = pd.read_csv(\"WestRoxbury.csv\")\n",
        "housing_df.shape # find the dimension of the data\n",
        "housing_df.head() # show the first five rows\n",
        "print(housing_df) # show all the data\n",
        "\n",
        "# Rename columns: replace splaces with '_' to allow dot notation\n",
        "housing_df = housing_df.rename(columns={'TOTAL VALUE':'TOTAL_VALUE'}) # explicit\n",
        "housing_df.columns = [s.strip().replace('','_') for s in housing_df.columns] # all columns\n",
        "\n",
        "# Practice showing the first four rows of data\n",
        "housing_df.loc[0:3]"
      ]
    }
  ]
}